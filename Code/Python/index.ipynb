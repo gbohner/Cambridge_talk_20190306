{
 "cells": [
  {
   "cell_type": "markdown",
   "metadata": {},
   "source": [
    "# Introduction to Machine Learning - Dimensionality reduction\n",
    "\n",
    "The data we collect often lives in a very high dimensional space. Examples include storing each pixel of an image, the movie preferences of each individual, or even a 500 dimensional feature vector describing a whiskey. \n",
    "\n",
    "The aim of dimensionality reduction is two-fold:\n",
    "* Understanding the important features (and indeed, combination thereof) of the data\n",
    "* Getting rid of variability that could have been caused by random process\n",
    "\n",
    "<br>\n",
    "In this tutorial we aim to examine a number of widely used algorithms for dimensionality reduction, as well as some more involved techniques. Implementing these algorithms using only linear algebraic operations drives a better understanding of how parameters affect the outcomes of algorithms and how mistakes may be committed, that affect subsequent analyses.\n",
    "\n",
    "<b><u>Table of contents</u></b>\n",
    "\n",
    "<a href='#pca'>Principle Component Analysis (PCA)</a>\n",
    "\n",
    "<a href='#mds'>Multidimensional Scaling (MDS)</a>\n",
    "\n",
    "<a href='#lle'>Locally Linear Embedding (LLE)</a>\n",
    "\n",
    "<a href='#isomap'>Isomap</a>\n",
    "\n",
    "<a href='#further'>Further algorithms</a>\n",
    "* ICA, MVU, SNE\n",
    "\n",
    "<a href='#yours'>Try your own data and algorithms</a>\n"
   ]
  },
  {
   "cell_type": "code",
   "execution_count": null,
   "metadata": {
    "collapsed": false
   },
   "outputs": [],
   "source": [
    "# Toolboxes used\n",
    "import numpy as np # For linear algebra\n",
    "import scipy.io # For loading matlab datasets\n",
    "from sklearn import decomposition as decomp # PCA-like methods\n",
    "from sklearn import manifold # Manifold-based methods\n",
    "from sklearn import neighbors\n",
    "\n",
    "import matplotlib # Matlab style plotting package for python\n",
    "import matplotlib.pyplot as plt\n",
    "%matplotlib notebook\n",
    "np.set_printoptions(precision=3)\n",
    "\n",
    "import dimred_funcs as df # Importing the custom subfunctions from a separate file"
   ]
  },
  {
   "cell_type": "code",
   "execution_count": null,
   "metadata": {
    "collapsed": false
   },
   "outputs": [],
   "source": [
    "# Loading an example dataset\n",
    "X = scipy.io.loadmat('freyface.mat')['X'].astype(float)\n",
    "print('The dimensions of our dataset are: {}').format(X.shape) # The size of the data matrix X"
   ]
  },
  {
   "cell_type": "code",
   "execution_count": null,
   "metadata": {
    "collapsed": false
   },
   "outputs": [],
   "source": [
    "# Explore the data\n",
    "df.showfreyface(X[:,0:60]) # Shows the images in the selected columns of the data matrix X (takes a few seconds)"
   ]
  },
  {
   "cell_type": "markdown",
   "metadata": {},
   "source": [
    "<a id='pca'></a>\n",
    "## Principle Component Analysis (PCA)\n",
    "Apply PCA to find the eigendirections of the data"
   ]
  },
  {
   "cell_type": "code",
   "execution_count": null,
   "metadata": {
    "collapsed": false,
    "scrolled": true
   },
   "outputs": [],
   "source": [
    "# Built-in PCA results\n",
    "pca = decomp.PCA(n_components=min(X.shape))\n",
    "pca.fit(X.T)\n",
    "eigvec = pca.components_.T\n",
    "eigval = pca.explained_variance_\n",
    "print_n = 16\n",
    "print('The first {} PCA eigenvalues are {}.\\n').format(print_n, eigval[0:print_n])\n",
    "# df.showfreyface(eigvec.T)"
   ]
  },
  {
   "cell_type": "markdown",
   "metadata": {},
   "source": [
    "### PCA implementation\n",
    "* What's wrong with the code below, why does it give you different values? What do you notice about these values? How would you correct it? (The first line computes the eigendecomposition of $ XX^T $ )"
   ]
  },
  {
   "cell_type": "code",
   "execution_count": null,
   "metadata": {
    "collapsed": false
   },
   "outputs": [],
   "source": [
    "# Wrong implementation\n",
    "Dun,Vun = np.linalg.eig(np.dot(X,X.T)) # Get eigenvalues and eigenvectors of XX^T\n",
    "\n",
    "order = Dun.argsort()[::-1] # Get the descending ordering of eigenvalues\n",
    "Dun = Dun[order]\n",
    "Vun = Vun[:,order]\n",
    "\n",
    "print_n = 16;\n",
    "print('The first {} incorrect PCA eigenvalues are {}.\\n').format(print_n, Dun[0:print_n])\n",
    "\n",
    "# df.showfreyface(Vun[:,0:16])"
   ]
  },
  {
   "cell_type": "markdown",
   "metadata": {},
   "source": [
    "* Correct the code below to perform PCA on the data:"
   ]
  },
  {
   "cell_type": "code",
   "execution_count": null,
   "metadata": {
    "collapsed": false
   },
   "outputs": [],
   "source": [
    "# Your implementation\n",
    "## Write Code Here\n",
    "Xctr = X\n",
    "\n",
    "Dctr,Vctr = np.linalg.eig(np.dot(Xctr,Xctr.T)) # Get eigenvalues and eigenvectors of the data covariance matrix\n",
    "\n",
    "\n",
    "## End Coding Here\n",
    "\n",
    "order = Dctr.argsort()[::-1] # Get the descending ordering of eigenvalues\n",
    "Dctr = Dctr[order]\n",
    "Vctr = Vctr[:,order]\n",
    "\n",
    "print_n = 16;\n",
    "print('Compare your results to the correct eigenvalues.\\n')\n",
    "print('{} {}').format('Correct'.rjust(20), 'Yours'.rjust(20))\n",
    "for i in range(print_n):\n",
    "    print('{0:20.3f} {1:20.3f}').format(eigval[i], Dctr[i])"
   ]
  },
  {
   "cell_type": "markdown",
   "metadata": {},
   "source": [
    "<br><br><br>\n",
    "### PCA eigenvectors\n",
    "* Look at the top 16 eigenvectors in each case. Can you interpret them? How do they differ?"
   ]
  },
  {
   "cell_type": "code",
   "execution_count": null,
   "metadata": {
    "collapsed": false
   },
   "outputs": [],
   "source": [
    "# Uncentered eigenvectors\n",
    "df.showfreyface(Vun[:,0:16], ndims=[4,4], scale=0.6, figtitle='Uncentered')\n",
    "\n",
    "#PCA eigenvectors\n",
    "df.showfreyface(eigvec[:,0:16], ndims=[4,4], scale=0.6, figtitle='PCA')"
   ]
  },
  {
   "cell_type": "markdown",
   "metadata": {},
   "source": [
    "<br><br><br>\n",
    "* Project the data onto the top two eigenvectors, and plot the resulting 2D points. Clicking in the scatter plot will reconstruct the corresponding image on the right"
   ]
  },
  {
   "cell_type": "code",
   "execution_count": null,
   "metadata": {
    "collapsed": false
   },
   "outputs": [],
   "source": [
    "# Calculating data projection\n",
    "Y = np.dot(eigvec[:,0:2].T, X)\n",
    "\n",
    "\n",
    "# Visualization\n",
    "matplotlib.rcParams['figure.figsize'] = (12,8)\n",
    "fig = plt.figure();\n",
    "ax2 = fig.add_subplot(122)\n",
    "ax1 = fig.add_subplot(121)\n",
    "plt.scatter(Y[0,:], Y[1,:])\n",
    "ax1.set_xlabel('PC1')\n",
    "ax1.set_ylabel('PC2')\n",
    "Yhat = np.array([1,0])\n",
    "Xhat = np.dot(eigvec[:,0:2], Yhat)\n",
    "ax2.imshow((Xhat+X.mean(1)).reshape((28,20)), cmap='gray')\n",
    "ax2.axis('off')\n",
    "def onclick_pca(event):\n",
    "    Yhat = np.array([event.xdata, event.ydata])\n",
    "    Xhat = np.dot(eigvec[:,0:2], Yhat)\n",
    "    ax2.imshow((Xhat+X.mean(1)).reshape((28,20)), cmap='gray')\n",
    "    fig.suptitle(Yhat)\n",
    "cid = fig.canvas.mpl_connect('button_press_event', onclick_pca)\n",
    "plt.show()"
   ]
  },
  {
   "cell_type": "markdown",
   "metadata": {},
   "source": [
    " ### PCA eigenspectrum\n",
    " * Look at the eigenspectrum. What might be a good choice for k? Is it easy to tell?"
   ]
  },
  {
   "cell_type": "code",
   "execution_count": null,
   "metadata": {
    "collapsed": false
   },
   "outputs": [],
   "source": [
    "# Examine the resulting eigenvalues\n",
    "plt.figure();\n",
    "plt.plot(eigval)\n",
    "plt.xlabel('PCA direction')\n",
    "plt.ylabel('Eigenvalue')\n",
    "plt.show()"
   ]
  },
  {
   "cell_type": "markdown",
   "metadata": {},
   "source": [
    "<br><br><br>\n",
    "* Another metric for choosing k is looking at the cumulative variance explained by the first k eigendirections. Is it easier to select k now?"
   ]
  },
  {
   "cell_type": "code",
   "execution_count": null,
   "metadata": {
    "collapsed": false
   },
   "outputs": [],
   "source": [
    "# Examine the resulting eigenvalues\n",
    "plt.figure();\n",
    "cum_explained = np.cumsum(eigval/np.sum(eigval))\n",
    "plt.plot(cum_explained*100)\n",
    "plt.xlabel('PCA manifold dimensionality')\n",
    "plt.ylabel('Percentage of variance explained')\n",
    "plt.show()"
   ]
  },
  {
   "cell_type": "markdown",
   "metadata": {},
   "source": [
    "<br><br><br>\n",
    "* To verify this latest metric, look at a set of random images generated using the first k eigenvectors, such that the linear subspace contains d % of the total variance. For which values do the images look most realistic?\n",
    "    * Note that the simulated images are from a multivariate Gaussian with zero mean and variances according to the learned eigenvalues, whereas the true image distribution is usually non-normal (remember the scatter plot of the first 2 eigendirections)\n",
    "* Why? "
   ]
  },
  {
   "cell_type": "code",
   "execution_count": null,
   "metadata": {
    "collapsed": false
   },
   "outputs": [],
   "source": [
    "d = 70; # Percentage of total variance explained\n",
    "k = np.argmax(cum_explained > (d/100.0))+1;\n",
    "print('Using {0:4d} dimensions that explain at least {1:3d}% of the total variance').format(k,d)\n",
    "\n",
    "#Drawing random samples from the correct Gaussian\n",
    "num_samp = 30\n",
    "Ysamp = np.random.multivariate_normal(np.zeros(k), np.diag(eigval[0:k]), num_samp).T\n",
    "Xsamp = np.dot(eigvec[:,0:k], Ysamp)\n",
    "df.showfreyface(Xsamp)\n",
    "# df.showfreyface(Xsamp+X.mean(1)[:,np.newaxis])"
   ]
  },
  {
   "cell_type": "markdown",
   "metadata": {},
   "source": [
    "<br><br><br>\n",
    "### PCA for denoising.\n",
    "* Try adding different levels of noise n to an image, projecting into the PCA manifold to find $y$, then computing the reconstruction $\\hat{x}$\n",
    "* For what combinations of k and n does the reconstruction look \"good\"?\n",
    "* How does this relate to the total variance contained in the PCA manifold chosen?\n",
    "* How would you define \"noise floor\"?"
   ]
  },
  {
   "cell_type": "code",
   "execution_count": null,
   "metadata": {
    "collapsed": false
   },
   "outputs": [],
   "source": [
    "n = 0.1; # Noise level percentage (Try 0.01, 0.1, 1, 10, 50, 90) \n",
    "k = 100; # Try various values or try to \"guess\" the best one\n",
    "\n",
    "\n",
    "# # Alternatively use the reconstruction level d. Is this optimal? Why?\n",
    "# d = 100-n;\n",
    "# k = np.argmax(cum_explained > (d/100.0))+1;\n",
    "# print('Using {0:4d} dimensions that explain at least {1:3f}% of the total variance').format(k,d)\n",
    "\n",
    "\n",
    "n = n / 100.0 * np.sum(eigval) # Converting noise percentage level into variances\n",
    "\n",
    "# Creating a noise image\n",
    "Xtrue = X[:,0] # Choose base image here\n",
    "Xnoisy = Xtrue - X.mean(1) + np.random.multivariate_normal(np.zeros(Xtrue.shape[0]), np.diag(np.ones(Xtrue.shape[0])*n), 1)\n",
    "\n",
    "Yhat = np.dot(eigvec[:,0:k].T, Xnoisy.T) # Projecting into the k-dimensional PCA manifold\n",
    "Xhat = np.dot(eigvec[:,0:k], Yhat) # Reconstring the image from the PCA coefficients\n",
    "\n",
    "# Plotting\n",
    "fig = plt.figure();\n",
    "ax0 = fig.add_subplot(131)\n",
    "ax0.set_title('Original face')\n",
    "ax1 = fig.add_subplot(132)\n",
    "ax1.set_title('Noisy face')\n",
    "ax2 = fig.add_subplot(133)\n",
    "ax2.set_title('Denoised face')\n",
    "ax0.imshow(Xtrue.reshape((28,20)), cmap='gray')\n",
    "ax1.imshow((Xnoisy.T+X.mean(1)[:,np.newaxis]).reshape((28,20)), cmap='gray')\n",
    "ax2.imshow((Xhat+X.mean(1)[:,np.newaxis]).reshape((28,20)), cmap='gray')\n",
    "ax1.axis('off')\n",
    "ax2.axis('off')\n"
   ]
  },
  {
   "cell_type": "markdown",
   "metadata": {},
   "source": [
    "<br><br><br> <a id='mds'></a>\n",
    "## Multidimensional scaling (MDS)\n",
    "MDS looks at a different metric of the data, the pairwise similarities between samples. For numerical data (or at least extracted features) this corresponds to the inner product, or the Gram matrix $X^TX$. Note that in PCA we used the covariance or scatter matrix $XX^T$.\n"
   ]
  },
  {
   "cell_type": "markdown",
   "metadata": {},
   "source": [
    "* Construct the Gram matrix after removing the mean of the data (use $X_{ctr}$)\n",
    "* Use MDS to embed into a 2D space and plot the result (see PCA instructions above for help). Verify that you get the same result as PCA (there might well be sign differences).\n",
    "* Look at the results of the first two singular vectors [using *np.linalg.svd()* ] . How do they correspond to the results of PCA and MDS?"
   ]
  },
  {
   "cell_type": "code",
   "execution_count": null,
   "metadata": {
    "collapsed": true
   },
   "outputs": [],
   "source": [
    "# Using MDS\n",
    "# Write code here\n",
    "\n",
    "\n",
    "\n"
   ]
  },
  {
   "cell_type": "code",
   "execution_count": null,
   "metadata": {
    "collapsed": true
   },
   "outputs": [],
   "source": [
    "# Using SVD\n",
    "# Write code here\n",
    "\n",
    "\n"
   ]
  },
  {
   "cell_type": "markdown",
   "metadata": {},
   "source": [
    "<br>\n",
    "* Time the three equivalent algorithms: PCA, MDS and SVD. Which is fastest? Explore how this depends on the number of data dimensions and on the number of data."
   ]
  },
  {
   "cell_type": "code",
   "execution_count": null,
   "metadata": {
    "collapsed": true
   },
   "outputs": [],
   "source": [
    "use_dims = 130 # How many dimensions of the data to use (max 560)\n",
    "# (note that if you reduce it the images won't make sense anymore, this is purely for timing purposes)\n",
    "use_samples = 30 # How many of the 1965 provided samples to use"
   ]
  },
  {
   "cell_type": "code",
   "execution_count": null,
   "metadata": {
    "collapsed": false
   },
   "outputs": [],
   "source": [
    "Xctr = X - X.mean(axis=1)[:,np.newaxis]\n",
    "\n",
    "#Timing PCA\n",
    "print('Timing PCA: ')\n",
    "%timeit np.linalg.eig(np.dot(Xctr[0:use_dims,0:use_samples],Xctr[0:use_dims,0:use_samples].T)/use_samples)\n",
    "Dpca,Vpca = np.linalg.eig(np.dot(Xctr[0:use_dims,0:use_samples],Xctr[0:use_dims,0:use_samples].T)/use_samples)\n",
    "\n",
    "#Timing MDS\n",
    "print('Timing MDS: ')\n",
    "%timeit np.linalg.eig(np.dot(Xctr[0:use_dims,0:use_samples].T, Xctr[0:use_dims,0:use_samples])/use_samples)\n",
    "Dmds,Vmds = np.linalg.eig(np.dot(Xctr[0:use_dims,0:use_samples].T, Xctr[0:use_dims,0:use_samples])/use_samples)\n",
    "\n",
    "#Timing SVD\n",
    "print('Timing SVD: ')\n",
    "%timeit np.linalg.svd(Xctr[0:use_dims,0:use_samples]/np.sqrt(use_samples))\n",
    "Vsvd,Dsvd,tmp = np.linalg.svd(Xctr[0:use_dims,0:use_samples]/np.sqrt(use_samples))\n",
    "    "
   ]
  },
  {
   "cell_type": "code",
   "execution_count": null,
   "metadata": {
    "collapsed": false
   },
   "outputs": [],
   "source": [
    "# Check that the eigenvalues are the same (Note that either PCA or the MDS matrix may be badly conditioned, but not both!)\n",
    "print(Dpca[0:16])\n",
    "print(Dmds[0:16])\n",
    "print(Dsvd[0:16]**2)"
   ]
  },
  {
   "cell_type": "markdown",
   "metadata": {},
   "source": [
    "* Can you think of different metrics to try with MDS?"
   ]
  },
  {
   "cell_type": "markdown",
   "metadata": {},
   "source": [
    "<br><br><br>\n",
    "## Kernel PCA\n",
    "* _[Advanced]_ Try replacing the inner products with squared-exponential (i.e. Gaussian) kernel evaluations. What do you think of these results?"
   ]
  },
  {
   "cell_type": "code",
   "execution_count": null,
   "metadata": {
    "collapsed": true
   },
   "outputs": [],
   "source": [
    "# Kernel PCA\n",
    "# Write Code here\n",
    "\n"
   ]
  },
  {
   "cell_type": "markdown",
   "metadata": {},
   "source": [
    "<br><br><br> <a id='lle'></a>\n",
    "## Locally linear embedding (LLE)\n",
    "LLE is a globally non-linear method that aims to preserve linearity within a certain neighbourhood of each data point\n",
    "\n",
    "The 3 steps of the algorithm are:\n",
    "1. Compute pairwise distances and find neighborhoods\n",
    "2. Solve for reconstruction weights $W$ at each point\n",
    "    * Regression from the neighbourhood\n",
    "3. Compute embedding from the eigenvectors of the cost matrix $(I-W)^T(I-W)$\n",
    "\n",
    "This same face data was used in the original LLE paper (Roweis & Saul, see lecture notes). \n",
    "* Can you reproduce the figure? (They used a 12-nearest-neighbour graph and 2 dimensions).\n",
    "* Explore the resulting projection space. Does it make more or less sense than the PCA one?\n",
    "* Experiment with the neighbourhood size. How does it affect the results? Which neighbourhood gives the most interpretable embedding?"
   ]
  },
  {
   "cell_type": "code",
   "execution_count": null,
   "metadata": {
    "collapsed": false
   },
   "outputs": [],
   "source": [
    "# Built-in\n",
    "lle = manifold.LocallyLinearEmbedding(n_neighbors=12, n_components=2, reg=0, eigen_solver='dense', \\\n",
    "                                      max_iter=100000, method='standard', neighbors_algorithm='brute', \\\n",
    "                                      tol=1e-06)\n",
    "Y = lle.fit_transform(X.T) # Computes the embedded face points\n",
    "\n",
    "# # Custom written\n",
    "# Y = df.custom_lle(X,n_neighbours=12, k=2, regularization=0)"
   ]
  },
  {
   "cell_type": "code",
   "execution_count": null,
   "metadata": {
    "collapsed": false
   },
   "outputs": [],
   "source": [
    "# Visualization\n",
    "# Note that reconstruction from an arbitrary point using LLE is somewhat difficult, \n",
    "# for now we'll just find the nearest existing data point to the user's click\n",
    "\n",
    "# Train a neighborhood object within the embedding space\n",
    "Ynbrs = neighbors.NearestNeighbors(n_neighbors=1)\n",
    "Ynbrs.fit(Y)\n",
    "\n",
    "fig = plt.figure();\n",
    "ax2 = fig.add_subplot(122)\n",
    "ax1 = fig.add_subplot(121)\n",
    "plt.scatter(Y[:,0], Y[:,1])\n",
    "#ax1.set_title(('Local {}d embedding').format(lle.n_components))\n",
    "ax2.axis('off')\n",
    "def onclick_lle(event):\n",
    "    Yhat = np.array([event.xdata, event.ydata])\n",
    "    # Find nearest neighbour in embedding space\n",
    "    Xhatind = Ynbrs.kneighbors(Yhat.T, 1, return_distance=False) # returns the index of the nearest neighbor\n",
    "    Xhat = X[:,Xhatind[0]]\n",
    "    ax2.imshow(Xhat.reshape((28,20)), cmap='gray')\n",
    "    fig.suptitle(Yhat)\n",
    "cid = fig.canvas.mpl_connect('button_press_event', onclick_lle)\n",
    "plt.show()"
   ]
  },
  {
   "cell_type": "markdown",
   "metadata": {},
   "source": [
    "<br><br><br>\n",
    "* The code above always shows an existing sample, that is closest to the clicked point\n",
    "* How would you modify the algorithm to reconstruct an arbitrary sample? Try below!\n",
    "<br>\n"
   ]
  },
  {
   "cell_type": "code",
   "execution_count": null,
   "metadata": {
    "collapsed": false
   },
   "outputs": [],
   "source": [
    "# Built-in\n",
    "lle = manifold.LocallyLinearEmbedding(n_neighbors=12, n_components=2, reg=1e-03, eigen_solver='dense', \\\n",
    "                                      max_iter=100000, method='standard', neighbors_algorithm='brute', \\\n",
    "                                      tol=1e-06)\n",
    "Y = lle.fit_transform(X.T) # Computes the embedded face points\n",
    "\n",
    "# Visualization\n",
    "\n",
    "## Modify this code ----------------------------------------------------------------------------------\n",
    "\n",
    "# Train a neighborhood object within the embedding space\n",
    "Ynbrs = neighbors.NearestNeighbors(n_neighbors=1)\n",
    "Ynbrs.fit(Y)\n",
    "\n",
    "## End modifying code --------------------------------------------------------------------------------\n",
    "\n",
    "fig = plt.figure();\n",
    "ax2 = fig.add_subplot(122)\n",
    "ax1 = fig.add_subplot(121)\n",
    "plt.scatter(Y[:,0], Y[:,1])\n",
    "ax1.set_title(('Local {}d embedding').format(lle.n_components))\n",
    "ax2.axis('off')\n",
    "def onclick_lle2(event):\n",
    "    Yhat = np.array([event.xdata, event.ydata])\n",
    "    ## Write code here ----------------------------------------------------------------------------------\n",
    "    \n",
    "    \n",
    "    Xhat = np.zeros(Xhat.shape) # Change this line\n",
    "\n",
    "\n",
    "    ## End code here (that sets the value of Xhat) ------------------------------------------------------\n",
    "    ax2.imshow(Xhat.reshape((28,20)), cmap='gray')\n",
    "    fig.suptitle(Yhat)\n",
    "cid = fig.canvas.mpl_connect('button_press_event', onclick_lle2)\n",
    "plt.show()"
   ]
  },
  {
   "cell_type": "markdown",
   "metadata": {},
   "source": [
    "* *[Advanced]* How would you implement your own LLE algorithm?\n",
    "    * Follow the steps outlined and use the lecture notes for the math"
   ]
  },
  {
   "cell_type": "code",
   "execution_count": null,
   "metadata": {
    "collapsed": false
   },
   "outputs": [],
   "source": [
    "# Your LLE\n",
    "def my_lle(X, n_neighbours=12, k=2):\n",
    "    #X: raw input data\n",
    "    \n",
    "    #Step 1 - For each point get the local neighbourhood based on pairwise distance measures\n",
    "    # Input - data (features x samples) and n_neighbors. \n",
    "    # Output - local neighbourhood indices (n_neighbours x samples)\n",
    "    \n",
    "    \n",
    "    \n",
    "    #Step 2 - For each point solve reconstruction using it's neighbourhood as regressors\n",
    "    # Input - data,  neighbourhoods. \n",
    "    # Output - local reconstruction weights W (n_neighbours x samples)\n",
    "    \n",
    "    \n",
    "    #Step 3 - Compute the best k-dimensional embedding Y by solving the quadratic cost function\n",
    "    # Input - W\n",
    "    # Output - Y (k x samples)\n",
    "    # Note that you do not get \"projection vectors\" as in PCA, only the projected data\n",
    "    # This is due to the fact that globally this method is non-linear.\n",
    "    \n",
    "    # This step is somewhat tricky\n",
    "    \n",
    "    return"
   ]
  },
  {
   "cell_type": "markdown",
   "metadata": {},
   "source": [
    "<br><br><br> <a id='isomap'></a>\n",
    "## Isomap\n",
    "Isomap is a globally non-linear method that aims to preserve distances between samples in a graph-path sense\n",
    "\n",
    "The 3 steps of the algorithm are:\n",
    "1. Compute pairwise distances (euclidean) and find neighborhoods\n",
    "2. Recompute pairwise distances using shortest path in graph\n",
    "3. Compute embedding using metric MDS\n",
    "\n",
    "The Isomap paper (Tenenbaum et al.) used a different face data set. Try running it on Brendan and compare to LLE. \n",
    "* Again, how does the neighbourhood affect the results?\n",
    "* Can you reconstruct in this case?"
   ]
  },
  {
   "cell_type": "code",
   "execution_count": null,
   "metadata": {
    "collapsed": false
   },
   "outputs": [],
   "source": [
    "# Built-in\n",
    "isomap = manifold.Isomap(n_neighbors=12, n_components=2, eigen_solver='dense', tol=0, \\\n",
    "                         max_iter=None, path_method='FW', neighbors_algorithm='brute')\n",
    "Y = isomap.fit_transform(X.T) # Computes the embedded face points\n",
    "\n",
    "# Visualization\n",
    "# Note that reconstruction from an arbitrary point using LLE is somewhat difficult, \n",
    "# for now we'll just find the nearest existing data point to the user's click\n",
    "\n",
    "# Train a neighborhood object within the embedding space\n",
    "Ynbrs = neighbors.NearestNeighbors(n_neighbors=1)\n",
    "Ynbrs.fit(Y)\n",
    "\n",
    "fig = plt.figure();\n",
    "ax2 = fig.add_subplot(122)\n",
    "ax1 = fig.add_subplot(121)\n",
    "plt.scatter(Y[:,0], Y[:,1])\n",
    "ax1.set_title(('Local {}d embedding').format(lle.n_components))\n",
    "ax2.axis('off')\n",
    "def onclick_isomap(event):\n",
    "    Yhat = np.array([event.xdata, event.ydata])\n",
    "    # Find nearest neighbour in embedding space\n",
    "    Xhatind = Ynbrs.kneighbors(Yhat.T, 1, return_distance=False) # returns the index of the nearest neighbor\n",
    "    Xhat = X[:,Xhatind[0]]\n",
    "    ax2.imshow(Xhat.reshape((28,20)), cmap='gray')\n",
    "    fig.suptitle(Yhat)\n",
    "cid = fig.canvas.mpl_connect('button_press_event', onclick_isomap)\n",
    "plt.show()"
   ]
  },
  {
   "cell_type": "markdown",
   "metadata": {},
   "source": [
    "<br><br><br>\n",
    "* *[Advanced]* Try your own implementation of isomap (notice that you can reuse code from lle)"
   ]
  },
  {
   "cell_type": "code",
   "execution_count": null,
   "metadata": {
    "collapsed": true
   },
   "outputs": [],
   "source": [
    "# Your Isomap\n",
    "def my_isomap(X, n_neighbours=12, k=2):\n",
    "    # Implement the 3 steps of isomap\n",
    "    \n",
    "    return"
   ]
  },
  {
   "cell_type": "markdown",
   "metadata": {},
   "source": [
    "<br><br><br>\n",
    "<a id=\"further\"></a>\n",
    "# Further algorithms\n",
    "\n",
    "It is very much recommended that whenever you plan to use dimensionality reduction during your research, you dig into it and implement your own version. As you could see above, most of these algorithms are actually quite simple and can be implemented in a few lines of code, if you understand the linear algebra going on in the background."
   ]
  },
  {
   "cell_type": "markdown",
   "metadata": {
    "collapsed": true
   },
   "source": [
    "<br>\n",
    "## Independent Component Analysis (ICA)\n",
    "ICA is not a classical dimensionality reduction method, rather a linear combination representation of the data. It often actually increases the dimensionality of our data, but such that each of the axis is meaningful in some sense \n",
    "\n",
    "(We'd like to refer to meaningful in the human sense, but we need to somehow translate human meaning into math. We can do this in multiple ways. One way is to assume basis vectors are sparse - meaning they only put weight in a few places, resulting in more interpretable features. Adding further constraint [such as explicitly local features instead of just sparse] result in even more interpretability, but way more complicated algorithms to write).\n",
    "\n",
    "Look at our favourite Frey dataset in this sense now, and locate the eyebrow feature :-)"
   ]
  },
  {
   "cell_type": "code",
   "execution_count": null,
   "metadata": {
    "collapsed": false
   },
   "outputs": [],
   "source": [
    "ica = decomp.FastICA(n_components=100, algorithm='parallel', whiten=True, fun='logcosh', fun_args=None, \\\n",
    "                     max_iter=200, tol=0.0001, w_init=None, random_state=None)\n",
    "ica.fit(X.T)"
   ]
  },
  {
   "cell_type": "code",
   "execution_count": null,
   "metadata": {
    "collapsed": false
   },
   "outputs": [],
   "source": [
    "icavec = ica.components_.T\n",
    "df.showfreyface(icavec)"
   ]
  },
  {
   "cell_type": "markdown",
   "metadata": {},
   "source": [
    "<br><br>\n",
    "## Maximum Variance Unfolding\n",
    "Using the same neighbourhood graph as LLE and Isomap, but locally tries to preserve variance like PCA instead of reconstructability (LLE) or graph distance (Isomap).\n",
    "\n",
    "* *[Very Advanced]* Add an option to your custom LLE algorithm such that it preserves all local distances in the neighborhoods instead of the reconstructability"
   ]
  },
  {
   "cell_type": "code",
   "execution_count": null,
   "metadata": {
    "collapsed": true
   },
   "outputs": [],
   "source": [
    "# No built-in version yet\n",
    "# Implement my_lle(..., mvu=true)\n",
    "\n"
   ]
  },
  {
   "cell_type": "markdown",
   "metadata": {},
   "source": [
    "<br><br>\n",
    "## Stochastic Neighbour Embedding (SNE)\n",
    "The previous neighbourhood-preserving algorithms (LLE, Isomap, MVU) always used the same \"hard\"-neighbourhoods (either two samples are neighbours or not). Here we \"soften\" this algorithm and instead use a probability that two points are neighbours."
   ]
  },
  {
   "cell_type": "code",
   "execution_count": null,
   "metadata": {
    "collapsed": false
   },
   "outputs": [],
   "source": [
    "tsne = manifold.TSNE(n_components=2, perplexity=30.0, early_exaggeration=4.0, learning_rate=1000.0, \\\n",
    "                     n_iter=1000, n_iter_without_progress=30, min_grad_norm=1e-07, metric='euclidean', \\\n",
    "                     init='random', verbose=0, random_state=None, method='barnes_hut', angle=0.5)\n",
    "Y = tsne.fit_transform(X.T)"
   ]
  },
  {
   "cell_type": "code",
   "execution_count": null,
   "metadata": {
    "collapsed": false
   },
   "outputs": [],
   "source": [
    "# Visualization\n",
    "# Note that reconstruction from an arbitrary point using LLE is somewhat difficult, \n",
    "# for now we'll just find the nearest existing data point to the user's click\n",
    "\n",
    "# Train a neighborhood object within the embedding space\n",
    "Ynbrs = neighbors.NearestNeighbors(n_neighbors=1)\n",
    "Ynbrs.fit(Y)\n",
    "\n",
    "fig = plt.figure();\n",
    "ax2 = fig.add_subplot(122)\n",
    "ax1 = fig.add_subplot(121)\n",
    "plt.scatter(Y[:,0], Y[:,1])\n",
    "#ax1.set_title(('Local {}d embedding').format(lle.n_components))\n",
    "ax2.axis('off')\n",
    "def onclick_sne(event):\n",
    "    Yhat = np.array([event.xdata, event.ydata])\n",
    "    # Find nearest neighbour in embedding space\n",
    "    Xhatind = Ynbrs.kneighbors(Yhat.T, 1, return_distance=False) # returns the index of the nearest neighbor\n",
    "    Xhat = X[:,Xhatind[0]]\n",
    "    ax2.imshow(Xhat.reshape((28,20)), cmap='gray')\n",
    "    fig.suptitle(Yhat)\n",
    "cid = fig.canvas.mpl_connect('button_press_event', onclick_sne)\n",
    "plt.show()"
   ]
  },
  {
   "cell_type": "markdown",
   "metadata": {},
   "source": [
    "<br><br><br>\n",
    "<a id='yours'></a>\n",
    "# Try your own data and algorithms\n",
    "\n",
    "There are lots of datasets available online:\n",
    "* ETH unsupervised challange - http://www.causality.inf.ethz.ch/unsupervised-learning.php?page=datasets\n",
    "* SKlearn dataset tools - \"from sklearn import datasets\", http://scikit-learn.org/stable/datasets/\n",
    "* Kaggle: https://www.kaggle.com/datasets\n",
    "\n",
    "Toolboxes (Python):\n",
    "* Scikit-learn (ML toolbox that we used here a lot): http://scikit-learn.org/\n",
    "* Pandas (Data analysis toolbox (less machine learning)): http://pandas.pydata.org/\n",
    "* Numpy and Scipy (linear algebra, signal processing etc, Write your own custom algorithms in these): https://www.scipy.org/\n",
    "\n",
    "Toolbox (C++, with Python interface):\n",
    "* SHOGUN Machine Learning (fast and flexible toolbox): http://www.shogun-toolbox.org/\n",
    "* Eigen (amazing linear algebra toolbox): http://eigen.tuxfamily.org/\n",
    "\n"
   ]
  },
  {
   "cell_type": "code",
   "execution_count": null,
   "metadata": {
    "collapsed": true
   },
   "outputs": [],
   "source": []
  },
  {
   "cell_type": "code",
   "execution_count": null,
   "metadata": {
    "collapsed": true
   },
   "outputs": [],
   "source": []
  }
 ],
 "metadata": {
  "kernelspec": {
   "display_name": "Python 2",
   "language": "python",
   "name": "python2"
  },
  "language_info": {
   "codemirror_mode": {
    "name": "ipython",
    "version": 2
   },
   "file_extension": ".py",
   "mimetype": "text/x-python",
   "name": "python",
   "nbconvert_exporter": "python",
   "pygments_lexer": "ipython2",
   "version": "2.7.11"
  }
 },
 "nbformat": 4,
 "nbformat_minor": 0
}
